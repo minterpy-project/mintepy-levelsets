{
 "cells": [
  {
   "cell_type": "code",
   "execution_count": null,
   "metadata": {},
   "outputs": [],
   "source": [
    "import numpy as np\n",
    "import sympy as sp\n",
    "import minterpy as mp\n",
    "import minterpy_levelsets as ls"
   ]
  },
  {
   "cell_type": "markdown",
   "metadata": {},
   "source": [
    "This is a benchmark of fitting errors using GPLS method for algebraic varieties.\n",
    "\n",
    "GPLS method can be used to find an implicit representation of pointcloud surfaces. First, we show how to generate points on algebraic varieties. In order to generate pointcloud on surfaces, we use the implicit equation and sample points on the zero levelset."
   ]
  },
  {
   "cell_type": "markdown",
   "metadata": {},
   "source": [
    "## Random sampling points on implicit surfaces\n",
    "\n",
    "This demonstrates sampling of random points on implicit surfaces represented by algebraic varieties."
   ]
  },
  {
   "cell_type": "markdown",
   "metadata": {},
   "source": [
    "### Step 1: Initialize the implicit polynomial as a sympy expression"
   ]
  },
  {
   "cell_type": "code",
   "execution_count": null,
   "metadata": {},
   "outputs": [],
   "source": [
    "x, y, z = sp.symbols('x y z')"
   ]
  },
  {
   "cell_type": "markdown",
   "metadata": {},
   "source": [
    "#### Run any one of the cells in this step"
   ]
  },
  {
   "cell_type": "code",
   "execution_count": null,
   "metadata": {},
   "outputs": [],
   "source": [
    "## Ellipsoid\n",
    "a = 0.8\n",
    "b = 0.9\n",
    "c = 1.0\n",
    "expr = (x**2/a**2) + (y**2/b**2) + (z**2/c**2) - 1"
   ]
  },
  {
   "cell_type": "code",
   "execution_count": null,
   "metadata": {},
   "outputs": [],
   "source": [
    "## Biconcave disc\n",
    "d = 0.5\n",
    "c = 0.375\n",
    "expr = (d**2 + x**2 + y**2 + z**2)**3 - 8*d**2 * (y**2 + z**2) - c**4"
   ]
  },
  {
   "cell_type": "code",
   "execution_count": null,
   "metadata": {},
   "outputs": [],
   "source": [
    "## Torus\n",
    "R = 0.5\n",
    "r = 0.3\n",
    "expr = (x**2 + y**2 + z**2 + R**2 - r**2)**2 - 4*R**2*(x**2 + y**2)"
   ]
  },
  {
   "cell_type": "code",
   "execution_count": null,
   "metadata": {},
   "outputs": [],
   "source": [
    "## double Torus\n",
    "expr = ((x**2+y**2)**2-x**2+y**2)**2+z**2-0.01"
   ]
  },
  {
   "cell_type": "code",
   "execution_count": null,
   "metadata": {},
   "outputs": [],
   "source": [
    "## Genus-2 surface\n",
    "scale = 1.8\n",
    "expr = 2*(y*scale)*((y*scale)**2 - 3*(x*scale)**2)*(1-(z*scale)**2) + ((x*scale)**2 + (y*scale)**2)**2 - (9*(z*scale)**2 - 1)*(1 - (z*scale)**2)"
   ]
  },
  {
   "cell_type": "code",
   "execution_count": null,
   "metadata": {},
   "outputs": [],
   "source": [
    "## Klein surface\n",
    "expr = (x**2 + y**2 + z**2 + 2*y - 1)*((x**2 +  y**2 + z**2 - 2*y - 1)**2 - 8*z**2) + 16*x*z*(x**2 + y**2 + z**2  - 2*y - 1)                "
   ]
  },
  {
   "cell_type": "markdown",
   "metadata": {},
   "source": [
    "### Step 2: Convert sympy polynomial to minterpy polynomial\n",
    "\n",
    "First parameter is the SymPy Poly object. Second parameter specifies the target basis for the polynomial representation in minterpy. By default, it is CanonicalPoly."
   ]
  },
  {
   "cell_type": "code",
   "execution_count": null,
   "metadata": {},
   "outputs": [],
   "source": [
    "poly = sp.Poly(expr, x, y, z)\n",
    "newt_poly_exact = ls.sympy_to_mp(poly, mp.NewtonPolynomial)"
   ]
  },
  {
   "cell_type": "markdown",
   "metadata": {},
   "source": [
    "### Step 3: Sample points on the zero isocontour"
   ]
  },
  {
   "cell_type": "code",
   "execution_count": null,
   "metadata": {},
   "outputs": [],
   "source": [
    "point_data = ls.sample_points(newt_poly_exact,  # Polynomial in Newton basis\n",
    "                              200,        # Number of points to be sampled\n",
    "                              bounds=4.0, # Boundary of the Cubic domain to be sampled\n",
    "                              tol=1e-15,  # Tolerance in solution\n",
    "                              random_seed=42) # random seed"
   ]
  },
  {
   "cell_type": "markdown",
   "metadata": {},
   "source": [
    "### (Optional) Step 4: Visualize pointcloud and exact surface"
   ]
  },
  {
   "cell_type": "markdown",
   "metadata": {},
   "source": [
    "#### Pointcloud as Paraview VTK file"
   ]
  },
  {
   "cell_type": "code",
   "execution_count": null,
   "metadata": {},
   "outputs": [],
   "source": [
    "ls.output_VTK(point_data)"
   ]
  },
  {
   "cell_type": "markdown",
   "metadata": {},
   "source": [
    "#### Exact surface as Paraview VTR file"
   ]
  },
  {
   "cell_type": "code",
   "execution_count": null,
   "metadata": {},
   "outputs": [],
   "source": [
    "ls.output_VTR(newt_poly_exact, bounds=1.0)"
   ]
  },
  {
   "cell_type": "markdown",
   "metadata": {},
   "source": [
    "###  Perform surface fitting"
   ]
  },
  {
   "cell_type": "code",
   "execution_count": null,
   "metadata": {},
   "outputs": [],
   "source": [
    "poly = ls.LevelsetPoly(point_data, method='BK', tol=1e-11, verbose=True)"
   ]
  },
  {
   "cell_type": "markdown",
   "metadata": {},
   "source": [
    "### Estimate error of fit"
   ]
  },
  {
   "cell_type": "code",
   "execution_count": null,
   "metadata": {},
   "outputs": [],
   "source": [
    "distance_errors = poly(point_data) / np.linalg.norm(poly.compute_gradients_at(point_data),axis=1)\n",
    "linf_error = np.max(np.abs(distance_errors))\n",
    "print(f\"L_inf error = {linf_error}\")"
   ]
  },
  {
   "cell_type": "markdown",
   "metadata": {},
   "source": [
    "### Compare coefficients in Newton basis"
   ]
  },
  {
   "cell_type": "code",
   "execution_count": null,
   "metadata": {},
   "outputs": [],
   "source": [
    "np.max(np.abs(poly.newton_coeffs/poly.newton_coeffs[0] - newt_poly_exact.coeffs/newt_poly_exact.coeffs[0]))"
   ]
  },
  {
   "cell_type": "markdown",
   "metadata": {},
   "source": [
    "### Validation error"
   ]
  },
  {
   "cell_type": "code",
   "execution_count": null,
   "metadata": {},
   "outputs": [],
   "source": [
    "validation_point_data = ls.sample_points(newt_poly_exact,  # Polynomial in Newton basis\n",
    "                              100,        # Number of points to be sampled\n",
    "                              bounds=4.0, # Boundary of the Cubic domain to be sampled\n",
    "                              tol=1e-15,  # Tolerance in solution\n",
    "                              random_seed=1729) # random seed"
   ]
  },
  {
   "cell_type": "code",
   "execution_count": null,
   "metadata": {},
   "outputs": [],
   "source": [
    "validation_distance_errors = poly(validation_point_data) / np.linalg.norm(poly.compute_gradients_at(validation_point_data),axis=1)\n",
    "linf_validation_error = np.max(np.abs(validation_distance_errors))\n",
    "print(f\"L_inf error = {linf_validation_error:.3}\")"
   ]
  },
  {
   "cell_type": "code",
   "execution_count": null,
   "metadata": {},
   "outputs": [],
   "source": []
  }
 ],
 "metadata": {
  "kernelspec": {
   "display_name": "Python 3 (ipykernel)",
   "language": "python",
   "name": "python3"
  },
  "language_info": {
   "codemirror_mode": {
    "name": "ipython",
    "version": 3
   },
   "file_extension": ".py",
   "mimetype": "text/x-python",
   "name": "python",
   "nbconvert_exporter": "python",
   "pygments_lexer": "ipython3",
   "version": "3.10.6"
  }
 },
 "nbformat": 4,
 "nbformat_minor": 4
}
