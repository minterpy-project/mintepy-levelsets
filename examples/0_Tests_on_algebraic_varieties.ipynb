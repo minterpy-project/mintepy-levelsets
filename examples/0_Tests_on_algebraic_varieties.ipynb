{
 "cells": [
  {
   "cell_type": "code",
   "execution_count": null,
   "metadata": {},
   "outputs": [],
   "source": [
    "# Importing the libraries\n",
    "import numpy as np\n",
    "import minterpy as mp\n",
    "import minterpy_levelsets as ls"
   ]
  },
  {
   "cell_type": "markdown",
   "metadata": {},
   "source": [
    "## Test 1 : Unit sphere"
   ]
  },
  {
   "cell_type": "markdown",
   "metadata": {},
   "source": [
    "### Generate random points lying on unit sphere"
   ]
  },
  {
   "cell_type": "code",
   "execution_count": null,
   "metadata": {},
   "outputs": [],
   "source": [
    "num_points = 11\n",
    "sphere_points = ls.points_on_ellipsoid(num_points, radius_x=1.0, radius_y=1.0, radius_z=1.0, random_seed=42)"
   ]
  },
  {
   "cell_type": "markdown",
   "metadata": {},
   "source": [
    "### Find the polynomial whose zero-contour passes through the set of points"
   ]
  },
  {
   "cell_type": "code",
   "execution_count": null,
   "metadata": {},
   "outputs": [],
   "source": [
    "## Given the coordinates of the points, we compute the polynomial for a level function \n",
    "## whose zero passes through the given points\n",
    "\n",
    "poly = ls.LevelsetPoly(sphere_points, method='BK')"
   ]
  },
  {
   "cell_type": "code",
   "execution_count": null,
   "metadata": {},
   "outputs": [],
   "source": [
    "# Output the polynomial as VTK Rectilinear grid.\n",
    "# poly.output_VTR()"
   ]
  },
  {
   "cell_type": "markdown",
   "metadata": {},
   "source": [
    "### Compute gradients (unnormalized) on the points"
   ]
  },
  {
   "cell_type": "code",
   "execution_count": null,
   "metadata": {},
   "outputs": [],
   "source": [
    "gradients = poly.compute_gradients_at(sphere_points)"
   ]
  },
  {
   "cell_type": "code",
   "execution_count": null,
   "metadata": {},
   "outputs": [],
   "source": [
    "# unit normals\n",
    "unit_normals = sphere_points / np.linalg.norm(sphere_points,2, axis=1)[:, None]"
   ]
  },
  {
   "cell_type": "code",
   "execution_count": null,
   "metadata": {},
   "outputs": [],
   "source": [
    "# The projection of the normal vector along tangential direction\n",
    "np.max(np.linalg.norm(gradients - np.sum(gradients*unit_normals, axis=1)[:,None]*unit_normals, np.inf, axis=1))"
   ]
  },
  {
   "cell_type": "markdown",
   "metadata": {},
   "source": [
    "### Compute the mean and Gauss curvatures"
   ]
  },
  {
   "cell_type": "code",
   "execution_count": null,
   "metadata": {},
   "outputs": [],
   "source": [
    "mc, gc = poly.compute_curvatures_at(sphere_points)\n",
    "\n",
    "print(f\"Mean curvatures : {mc}\")\n",
    "print(f\"Gauss curvatures : {gc}\")"
   ]
  },
  {
   "cell_type": "markdown",
   "metadata": {},
   "source": [
    "## Test 2: Ellipsoid"
   ]
  },
  {
   "cell_type": "code",
   "execution_count": null,
   "metadata": {},
   "outputs": [],
   "source": [
    "# Get coordinates of a set of points on a unit sphere\n",
    "num_points = 100\n",
    "p_a = 0.6\n",
    "p_b = 0.8\n",
    "p_c = 1.0\n",
    "ellipsoid_points = ls.points_on_ellipsoid(num_points, radius_x=p_a, radius_y=p_b, radius_z=p_c)"
   ]
  },
  {
   "cell_type": "code",
   "execution_count": null,
   "metadata": {},
   "outputs": [],
   "source": [
    "# Find the polynomial whose zero-contour passes through the set of points\n",
    "poly = ls.LevelsetPoly(ellipsoid_points, method='LB')"
   ]
  },
  {
   "cell_type": "markdown",
   "metadata": {},
   "source": [
    "### Error in gradient computation"
   ]
  },
  {
   "cell_type": "code",
   "execution_count": null,
   "metadata": {},
   "outputs": [],
   "source": [
    "# Accuracy of normal vectors\n",
    "exact_grad = np.zeros((num_points,3))\n",
    "\n",
    "for i in range(num_points):\n",
    "    exact_grad[:,0] = 2.0 * ellipsoid_points[:,0] / (p_a * p_a)\n",
    "    exact_grad[:,1] = 2.0 * ellipsoid_points[:,1] / (p_b * p_b)\n",
    "    exact_grad[:,2] = 2.0 * ellipsoid_points[:,2] / (p_c * p_c)\n",
    "\n",
    "# Compute gradients (unnormalized) on the points\n",
    "gradients = poly.compute_gradients_at(ellipsoid_points)    \n",
    "\n",
    "gradients = gradients / np.linalg.norm(gradients,2, axis=1)[:, None]\n",
    "\n",
    "exact_grad = exact_grad / np.linalg.norm(exact_grad,2,axis=1)[:,None]\n",
    "    \n",
    "max_grad_error = np.max(np.concatenate((np.abs(gradients[:,0] - exact_grad[:,0]), np.abs(gradients[:,1] - exact_grad[:,1]), np.abs(gradients[:,2] - exact_grad[:,2]))))\n",
    "print(f\"Error in gradient computation : {max_grad_error}\")"
   ]
  },
  {
   "cell_type": "markdown",
   "metadata": {},
   "source": [
    "### Error in curvature estimation\n",
    "\n",
    "The ellipsoid is represented by the polynomial \n",
    "\n",
    "$ \\frac{x^2}{a^2} + \\frac{y^2}{b^2} + \\frac{z^2}{c^2} - 1 = 0$\n",
    "\n",
    "Gauss curvature is given by\n",
    "\n",
    "$ K = \\frac{1}{(abc)^2 \\left( \\frac{x^2}{a^4} + \\frac{y^2}{b^4} + \\frac{z^2}{c^4} \\right)^2} $\n",
    "\n",
    "and Mean curvature is given by\n",
    "\n",
    "$ H = \\frac{|x^2 + y^2 + z^2 - a^2 - b^2 - c^2|}{2(abc)^2 \\left( \\frac{x^2}{a^4} + \\frac{y^2}{b^4} + \\frac{z^2}{c^4} \\right)^{3/2} } $\n",
    "\n",
    "\n",
    "(from : 10.11648/j.larp.20170202.13 )"
   ]
  },
  {
   "cell_type": "code",
   "execution_count": null,
   "metadata": {},
   "outputs": [],
   "source": [
    "mean_curvature, gauss_curvature = poly.compute_curvatures_at(ellipsoid_points)"
   ]
  },
  {
   "cell_type": "code",
   "execution_count": null,
   "metadata": {},
   "outputs": [],
   "source": [
    "exact_mc = np.zeros(num_points)\n",
    "exact_gc = np.zeros(num_points)\n",
    "\n",
    "for i in range(num_points):\n",
    "    x, y, z = ellipsoid_points[i,:]\n",
    "    a = p_a\n",
    "    b = p_b\n",
    "    c = p_c\n",
    "    #exact_mc[i] = -np.abs(x**2 + y**2 + z**2 - p_a**2 - p_b**2 - p_c**2)/(2*((p_a*p_b*p_c)**2)*(x**2/(p_a**4) + y**2/(p_b**4) + z**2/(p_c**4))**1.5)\n",
    "    exact_mc[i] = -(a**2*c**2*(a**2 + c**2)*y**2 + b**4*(c**2*x**2 + a**2*z**2) + b**2*(c**4*x**2 + a**4*z**2))/(2.*a**4*b**4*c**4*(x**2/a**4 + y**2/b**4 + z**2/c**4)**1.5)\n",
    "    exact_gc[i] = 1.0 / (((p_a*p_b*p_c)**2) * (x**2/(p_a**4) + y**2/(p_b**4) + z**2/(p_c**4))**2)"
   ]
  },
  {
   "cell_type": "code",
   "execution_count": null,
   "metadata": {},
   "outputs": [],
   "source": [
    "# Note : We compare only the absolute value of mena curvature as the sign of the curvature depends on convention\n",
    "\n",
    "max_mc_error = np.max(np.abs(mean_curvature) - np.abs(exact_mc))\n",
    "max_gc_error = np.max(np.abs(gauss_curvature - exact_gc))\n",
    "print(f\"Error in mean curvature : {max_mc_error}\")\n",
    "print(f\"Error in gauss curvature : {max_gc_error}\")"
   ]
  },
  {
   "cell_type": "markdown",
   "metadata": {},
   "source": [
    "## Test 3 : Torus"
   ]
  },
  {
   "cell_type": "code",
   "execution_count": null,
   "metadata": {},
   "outputs": [],
   "source": [
    "num_points = 500\n",
    "\n",
    "# Parameters for the surface\n",
    "p_c = 0.5\n",
    "p_a = 0.1\n",
    "\n",
    "torus_points = ls.points_on_torus(num_points, p_c, p_a)"
   ]
  },
  {
   "cell_type": "code",
   "execution_count": null,
   "metadata": {},
   "outputs": [],
   "source": [
    "torus_poly = ls.LevelsetPoly(torus_points, method='BK', tol=1e-7, verbose=True)"
   ]
  },
  {
   "cell_type": "code",
   "execution_count": null,
   "metadata": {},
   "outputs": [],
   "source": [
    "def get_exact_curvatures_torus(pointcloud, par_c, par_a):\n",
    "    N_points = pointcloud.shape[0]\n",
    "    exact_mean_curvatures = np.zeros(N_points)\n",
    "    exact_gauss_curvatures = np.zeros(N_points)\n",
    "    \n",
    "    for p in range(N_points):\n",
    "        x, y, z = pointcloud[p, :]\n",
    "        \n",
    "        t1 = np.sqrt(x*x + y*y)\n",
    "        t2 = (t1 - par_c) / par_a\n",
    "        \n",
    "        exact_gauss_curvatures[p] = t2/(par_a*t1)\n",
    "        exact_mean_curvatures[p] = (par_c - 2*t1) / (2*par_a*t1)\n",
    "        \n",
    "    return exact_mean_curvatures, exact_gauss_curvatures"
   ]
  },
  {
   "cell_type": "code",
   "execution_count": null,
   "metadata": {},
   "outputs": [],
   "source": [
    "exact_mc, exact_gc = get_exact_curvatures_torus(torus_points, p_c, p_a)"
   ]
  },
  {
   "cell_type": "code",
   "execution_count": null,
   "metadata": {},
   "outputs": [],
   "source": [
    "mean_curvature, gauss_curvature = torus_poly.compute_curvatures_at(torus_points)"
   ]
  },
  {
   "cell_type": "code",
   "execution_count": null,
   "metadata": {},
   "outputs": [],
   "source": [
    "max_mc_error = np.max(np.abs(mean_curvature) - np.abs(exact_mc))\n",
    "max_gc_error = np.max(np.abs(gauss_curvature - exact_gc))\n",
    "\n",
    "print(f\"L_inf error in Mean Curvature is {max_mc_error}\")\n",
    "print(f\"L_inf erro rin Gauss Curvature is {max_gc_error}\")"
   ]
  },
  {
   "cell_type": "code",
   "execution_count": null,
   "metadata": {},
   "outputs": [],
   "source": []
  },
  {
   "cell_type": "code",
   "execution_count": null,
   "metadata": {},
   "outputs": [],
   "source": []
  }
 ],
 "metadata": {
  "kernelspec": {
   "display_name": "Python 3 (ipykernel)",
   "language": "python",
   "name": "python3"
  },
  "language_info": {
   "codemirror_mode": {
    "name": "ipython",
    "version": 3
   },
   "file_extension": ".py",
   "mimetype": "text/x-python",
   "name": "python",
   "nbconvert_exporter": "python",
   "pygments_lexer": "ipython3",
   "version": "3.10.6"
  }
 },
 "nbformat": 4,
 "nbformat_minor": 4
}
