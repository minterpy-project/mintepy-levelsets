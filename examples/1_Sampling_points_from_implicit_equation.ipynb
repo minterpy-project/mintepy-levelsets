{
 "cells": [
  {
   "cell_type": "code",
   "execution_count": null,
   "metadata": {},
   "outputs": [],
   "source": [
    "import numpy as np\n",
    "import sympy as sp\n",
    "import minterpy as mp\n",
    "import minterpy_levelsets as ls"
   ]
  },
  {
   "cell_type": "markdown",
   "metadata": {},
   "source": [
    "## Random sampling points on implicit surfaces\n",
    "\n",
    "This demonstrates sampling of random points on implicit surfaces represented by polynomials. "
   ]
  },
  {
   "cell_type": "markdown",
   "metadata": {},
   "source": [
    "### Step 1: Initialize the implicit polynomial as a sympy expression"
   ]
  },
  {
   "cell_type": "code",
   "execution_count": null,
   "metadata": {},
   "outputs": [],
   "source": [
    "x, y, z = sp.symbols('x y z')\n",
    "\n",
    "## Unit sphere\n",
    "# expr = x**2 + y**2 + z**2 - 1\n",
    "\n",
    "## Ellipsoid\n",
    "# a = 0.8\n",
    "# b = 0.9\n",
    "# c = 1.0\n",
    "# expr = (x**2/a**2) + (y**2/b**2) + (z**2/c**2) - 1\n",
    "\n",
    "## Biconcave disc\n",
    "# d = 0.5\n",
    "# c = 0.375\n",
    "# expr = (d**2 + x**2 + y**2 + z**2)**3 - 8*d**2 * (y**2 + z**2) - c**4\n",
    "\n",
    "## Torus\n",
    "# R = 0.5\n",
    "# r = 0.3\n",
    "# expr = (x**2 + y**2 + z**2 + R**2 - r**2)**2 - 4*R**2*(x**2 + y**2)\n",
    "\n",
    "## double Torus\n",
    "# expr = ((x**2+y**2)**2-x**2+y**2)**2+z**2-0.01\n",
    "\n",
    "## Genus-2 surface\n",
    "# scale = 1.8\n",
    "# expr = 2*(y*scale)*((y*scale)**2 - 3*(x*scale)**2)*(1-(z*scale)**2) + ((x*scale)**2 + (y*scale)**2)**2 - (9*(z*scale)**2 - 1)*(1 - (z*scale)**2)\n",
    "\n",
    "## Klein surface\n",
    "expr = (x**2 + y**2 + z**2 + 2*y - 1)*((x**2 +  y**2 + z**2 - 2*y - 1)**2 - 8*z**2) + 16*x*z*(x**2 + y**2 + z**2  - 2*y - 1)                \n",
    "poly = sp.Poly(expr, x, y, z)"
   ]
  },
  {
   "cell_type": "markdown",
   "metadata": {},
   "source": [
    "#### Latex form of the expression"
   ]
  },
  {
   "cell_type": "code",
   "execution_count": null,
   "metadata": {},
   "outputs": [],
   "source": [
    "expr"
   ]
  },
  {
   "cell_type": "markdown",
   "metadata": {},
   "source": [
    "#### See it monomial by monomial"
   ]
  },
  {
   "cell_type": "code",
   "execution_count": null,
   "metadata": {},
   "outputs": [],
   "source": [
    "sp.expand(expr)"
   ]
  },
  {
   "cell_type": "markdown",
   "metadata": {},
   "source": [
    "### Step 2: Convert sympy polynomial to minterpy polynomial\n",
    "\n",
    "First parameter is the SymPy Poly object. Second parameter specifies the target basis for the polynomial representation in minterpy. By default, it is CanonicalPoly."
   ]
  },
  {
   "cell_type": "code",
   "execution_count": null,
   "metadata": {},
   "outputs": [],
   "source": [
    "newt_poly_exact = ls.sympy_to_mp(poly, mp.NewtonPolynomial)"
   ]
  },
  {
   "cell_type": "markdown",
   "metadata": {},
   "source": [
    "### Step 3: Sample points on the zero isocontour"
   ]
  },
  {
   "cell_type": "code",
   "execution_count": null,
   "metadata": {},
   "outputs": [],
   "source": [
    "point_data = ls.sample_points(newt_poly_exact,  # Polynomial in Newton basis\n",
    "                              600,        # Number of points to be sampled\n",
    "                              bounds=1.0, # Boundary of the Cubic domain to be sampled\n",
    "                              tol=1e-15)  # Tolerance in solution"
   ]
  },
  {
   "cell_type": "markdown",
   "metadata": {},
   "source": [
    "### Step 4: Generate output"
   ]
  },
  {
   "cell_type": "markdown",
   "metadata": {},
   "source": [
    "#### As Paraview VTK file"
   ]
  },
  {
   "cell_type": "code",
   "execution_count": null,
   "metadata": {},
   "outputs": [],
   "source": [
    "ls.output_VTK(point_data)"
   ]
  },
  {
   "cell_type": "markdown",
   "metadata": {},
   "source": [
    "#### As Paraview VTR file"
   ]
  },
  {
   "cell_type": "code",
   "execution_count": null,
   "metadata": {},
   "outputs": [],
   "source": [
    "ls.output_VTR(newt_poly_exact, bounds=1.0)"
   ]
  },
  {
   "cell_type": "markdown",
   "metadata": {},
   "source": [
    "#### As plaintext (TSV format)"
   ]
  },
  {
   "cell_type": "code",
   "execution_count": null,
   "metadata": {},
   "outputs": [],
   "source": [
    "# np.savetxt('genus2.dat', point_data)\n",
    "np.savetxt('klein.dat', point_data)"
   ]
  },
  {
   "cell_type": "markdown",
   "metadata": {},
   "source": [
    "### Recheck surface fitting"
   ]
  },
  {
   "cell_type": "code",
   "execution_count": null,
   "metadata": {},
   "outputs": [],
   "source": [
    "poly = ls.LevelsetPoly(point_data, method='BK', verbose=True)"
   ]
  },
  {
   "cell_type": "markdown",
   "metadata": {},
   "source": [
    "### Compare coefficients in Newton basis"
   ]
  },
  {
   "cell_type": "code",
   "execution_count": null,
   "metadata": {},
   "outputs": [],
   "source": [
    "np.max(np.abs(poly.newton_coeffs/poly.newton_coeffs[0] - newt_poly_exact.coeffs/newt_poly_exact.coeffs[0]))"
   ]
  },
  {
   "cell_type": "code",
   "execution_count": null,
   "metadata": {},
   "outputs": [],
   "source": []
  },
  {
   "cell_type": "code",
   "execution_count": null,
   "metadata": {},
   "outputs": [],
   "source": []
  }
 ],
 "metadata": {
  "kernelspec": {
   "display_name": "Python 3 (ipykernel)",
   "language": "python",
   "name": "python3"
  },
  "language_info": {
   "codemirror_mode": {
    "name": "ipython",
    "version": 3
   },
   "file_extension": ".py",
   "mimetype": "text/x-python",
   "name": "python",
   "nbconvert_exporter": "python",
   "pygments_lexer": "ipython3",
   "version": "3.10.6"
  }
 },
 "nbformat": 4,
 "nbformat_minor": 4
}
