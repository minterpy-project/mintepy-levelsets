{
 "cells": [
  {
   "cell_type": "code",
   "execution_count": null,
   "id": "7a1ddacc",
   "metadata": {},
   "outputs": [],
   "source": [
    "import numpy as np\n",
    "import minterpy as mp\n",
    "import minterpy_levelsets as ls"
   ]
  },
  {
   "cell_type": "code",
   "execution_count": null,
   "id": "b26fff2f",
   "metadata": {},
   "outputs": [],
   "source": [
    "\n",
    "# Setting up the initial configuration\n",
    "N_points = 400\n",
    "ic_points = ls.points_on_biconcave_disc(N_points, param_c=0.5, param_d=0.375, random_seed=42)\n",
    "# ic_points = ls.points_on_ellipsoid(N_points, 0.8, 0.9, 1.0)\n",
    "\n",
    "max_steps = 100\n",
    "output_freq = 1\n",
    "step = 0\n",
    "curr_points = ic_points\n",
    "old_points = ic_points\n"
   ]
  },
  {
   "cell_type": "code",
   "execution_count": null,
   "id": "e23b3173",
   "metadata": {},
   "outputs": [],
   "source": [
    "\n",
    "print(f\"#Step\\tDt\\tDegree\\tlevel_dim\\tregression_error\\trecalibration_error\")\n",
    "\n",
    "# Main loop of the mean curvature flow problem\n",
    "while step < max_steps:\n",
    "    if step == 0:\n",
    "        # For the initial configuration, use a good fit\n",
    "        poly = ls.LevelsetPoly(curr_points, method='BK', tol=1e-10)\n",
    "    else:\n",
    "        poly = ls.LevelsetPoly(curr_points, method='BK', tol=1e-4)\n",
    "\n",
    "        \n",
    "    new_points = poly.closest_point_projection(curr_points, tol=1e-4)\n",
    "    \n",
    "    curr_points = new_points.copy()\n",
    "    \n",
    "    #Compute gradients and curvatures from the BKs\n",
    "    grad_vals = poly.compute_gradients_at(curr_points)\n",
    "    curvatures,_ = poly.compute_curvatures_at(curr_points)\n",
    "    \n",
    "    #Normalize the gradient before computing \n",
    "    grad_vals_norm = grad_vals / np.linalg.norm(grad_vals,2,axis=1)[:,None]\n",
    "    \n",
    "    velocities = curvatures[:,None] * grad_vals_norm\n",
    "    \n",
    "    # Generate output\n",
    "    if step % output_freq == 0:\n",
    "        poly.output_VTR(frame=int(step / output_freq), mesh_size=50)\n",
    "        \n",
    "        ls.output_VTK(curr_points, frame=int(step / output_freq), vector_field=grad_vals)\n",
    " \n",
    "    old_points = curr_points.copy()\n",
    "    dt = 2e-3/np.max(np.abs(curvatures))\n",
    "    \n",
    "    new_points = curr_points + dt * velocities\n",
    "    \n",
    "    curr_points = new_points\n",
    "    level_dim = 1\n",
    "    \n",
    "    poly_degree = poly._newton_poly.multi_index.poly_degree\n",
    "    print(f\"{step}\\t{dt}\\t{poly_degree}\")\n",
    "    step += 1"
   ]
  },
  {
   "cell_type": "code",
   "execution_count": null,
   "id": "4acd4776",
   "metadata": {},
   "outputs": [],
   "source": []
  },
  {
   "cell_type": "code",
   "execution_count": null,
   "id": "f6e5d53d",
   "metadata": {},
   "outputs": [],
   "source": []
  }
 ],
 "metadata": {
  "kernelspec": {
   "display_name": "Python 3 (ipykernel)",
   "language": "python",
   "name": "python3"
  },
  "language_info": {
   "codemirror_mode": {
    "name": "ipython",
    "version": 3
   },
   "file_extension": ".py",
   "mimetype": "text/x-python",
   "name": "python",
   "nbconvert_exporter": "python",
   "pygments_lexer": "ipython3",
   "version": "3.10.6"
  }
 },
 "nbformat": 4,
 "nbformat_minor": 5
}
